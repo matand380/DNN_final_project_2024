{
  "cells": [
    {
      "cell_type": "markdown",
      "metadata": {
        "id": "view-in-github",
        "colab_type": "text"
      },
      "source": [
        "<a href=\"https://colab.research.google.com/github/matand380/DNN_final_project_2024/blob/main/DNN_final_project_2024%2Btl.ipynb\" target=\"_parent\"><img src=\"https://colab.research.google.com/assets/colab-badge.svg\" alt=\"Open In Colab\"/></a>"
      ]
    },
    {
      "cell_type": "markdown",
      "metadata": {
        "id": "XQlnHddIbokO"
      },
      "source": [
        "# **Introduction to Deep Learning - Final Project** 🖥\n",
        "\n",
        "## Team Information\n",
        "- **Course:** Introduction to Deep Learning\n",
        "\n",
        "- **Semester:** Fall 2024\n",
        "\n",
        "- **Lectrurer:** Dr. Moshe Butman\n",
        "\n",
        "- **Institution:** The College of Management Academic Studies\n",
        "\n",
        "- **Team Members:** Eviatar Didon 313205387, Matan Drabkin 201416690\n",
        "\n",
        "## Project Overview\n",
        "\n",
        "### Objective\n",
        "\n",
        "This project centers around the application of deep learning techniques to classify chest X-ray images into distinct categories,\n",
        "\n",
        "with a specific emphasis on differentiating between healthy cases and those diagnosed with pneumonia.\n",
        "\n",
        "The dataset for training and evaluation includes a total of 5863 X-ray images, categorized as follows:\n",
        "\n",
        "- A. **Healthy**\n",
        "- B. **Pneumonia**\n",
        "  - Bacterial Pneumonia\n",
        "  - Viral Pneumonia\n",
        "\n"
      ]
    },
    {
      "cell_type": "markdown",
      "metadata": {
        "id": "VpYelA3FbokU"
      },
      "source": [
        "# Kaggle Dataset Downloading and Unzipping"
      ]
    },
    {
      "cell_type": "markdown",
      "metadata": {
        "id": "Tv0M1iilbokU"
      },
      "source": [
        "### Prerequisites\n",
        "\n",
        "Ensure that the necessary packages (`kaggle`) are installed before running the code. Use the following command to install the `kaggle` package:"
      ]
    },
    {
      "cell_type": "code",
      "execution_count": null,
      "metadata": {
        "colab": {
          "base_uri": "https://localhost:8080/"
        },
        "id": "CjNcqWEcbokV",
        "outputId": "953ed490-834f-4a66-fdab-96772588f736"
      },
      "outputs": [
        {
          "name": "stdout",
          "output_type": "stream",
          "text": [
            "Requirement already satisfied: kaggle in /usr/local/lib/python3.10/dist-packages (1.5.16)\n",
            "Requirement already satisfied: six>=1.10 in /usr/local/lib/python3.10/dist-packages (from kaggle) (1.16.0)\n",
            "Requirement already satisfied: certifi in /usr/local/lib/python3.10/dist-packages (from kaggle) (2023.11.17)\n",
            "Requirement already satisfied: python-dateutil in /usr/local/lib/python3.10/dist-packages (from kaggle) (2.8.2)\n",
            "Requirement already satisfied: requests in /usr/local/lib/python3.10/dist-packages (from kaggle) (2.31.0)\n",
            "Requirement already satisfied: tqdm in /usr/local/lib/python3.10/dist-packages (from kaggle) (4.66.1)\n",
            "Requirement already satisfied: python-slugify in /usr/local/lib/python3.10/dist-packages (from kaggle) (8.0.1)\n",
            "Requirement already satisfied: urllib3 in /usr/local/lib/python3.10/dist-packages (from kaggle) (2.0.7)\n",
            "Requirement already satisfied: bleach in /usr/local/lib/python3.10/dist-packages (from kaggle) (6.1.0)\n",
            "Requirement already satisfied: webencodings in /usr/local/lib/python3.10/dist-packages (from bleach->kaggle) (0.5.1)\n",
            "Requirement already satisfied: text-unidecode>=1.3 in /usr/local/lib/python3.10/dist-packages (from python-slugify->kaggle) (1.3)\n",
            "Requirement already satisfied: charset-normalizer<4,>=2 in /usr/local/lib/python3.10/dist-packages (from requests->kaggle) (3.3.2)\n",
            "Requirement already satisfied: idna<4,>=2.5 in /usr/local/lib/python3.10/dist-packages (from requests->kaggle) (3.6)\n"
          ]
        }
      ],
      "source": [
        "!pip install kaggle"
      ]
    },
    {
      "cell_type": "markdown",
      "metadata": {
        "id": "EGcYtr80bokW"
      },
      "source": [
        "### Uploading Kaggle API Key\n",
        "\n",
        "Use the file picker to upload your Kaggle API key:\n"
      ]
    },
    {
      "cell_type": "code",
      "execution_count": null,
      "metadata": {
        "colab": {
          "base_uri": "https://localhost:8080/",
          "height": 74
        },
        "id": "SVUnNWu0bokX",
        "outputId": "4dbf53ae-b411-4357-f3f3-10ecdbd0945c"
      },
      "outputs": [
        {
          "data": {
            "text/html": [
              "\n",
              "     <input type=\"file\" id=\"files-6a2a1f8f-f020-4ddf-b7c1-9a7e8df52e33\" name=\"files[]\" multiple disabled\n",
              "        style=\"border:none\" />\n",
              "     <output id=\"result-6a2a1f8f-f020-4ddf-b7c1-9a7e8df52e33\">\n",
              "      Upload widget is only available when the cell has been executed in the\n",
              "      current browser session. Please rerun this cell to enable.\n",
              "      </output>\n",
              "      <script>// Copyright 2017 Google LLC\n",
              "//\n",
              "// Licensed under the Apache License, Version 2.0 (the \"License\");\n",
              "// you may not use this file except in compliance with the License.\n",
              "// You may obtain a copy of the License at\n",
              "//\n",
              "//      http://www.apache.org/licenses/LICENSE-2.0\n",
              "//\n",
              "// Unless required by applicable law or agreed to in writing, software\n",
              "// distributed under the License is distributed on an \"AS IS\" BASIS,\n",
              "// WITHOUT WARRANTIES OR CONDITIONS OF ANY KIND, either express or implied.\n",
              "// See the License for the specific language governing permissions and\n",
              "// limitations under the License.\n",
              "\n",
              "/**\n",
              " * @fileoverview Helpers for google.colab Python module.\n",
              " */\n",
              "(function(scope) {\n",
              "function span(text, styleAttributes = {}) {\n",
              "  const element = document.createElement('span');\n",
              "  element.textContent = text;\n",
              "  for (const key of Object.keys(styleAttributes)) {\n",
              "    element.style[key] = styleAttributes[key];\n",
              "  }\n",
              "  return element;\n",
              "}\n",
              "\n",
              "// Max number of bytes which will be uploaded at a time.\n",
              "const MAX_PAYLOAD_SIZE = 100 * 1024;\n",
              "\n",
              "function _uploadFiles(inputId, outputId) {\n",
              "  const steps = uploadFilesStep(inputId, outputId);\n",
              "  const outputElement = document.getElementById(outputId);\n",
              "  // Cache steps on the outputElement to make it available for the next call\n",
              "  // to uploadFilesContinue from Python.\n",
              "  outputElement.steps = steps;\n",
              "\n",
              "  return _uploadFilesContinue(outputId);\n",
              "}\n",
              "\n",
              "// This is roughly an async generator (not supported in the browser yet),\n",
              "// where there are multiple asynchronous steps and the Python side is going\n",
              "// to poll for completion of each step.\n",
              "// This uses a Promise to block the python side on completion of each step,\n",
              "// then passes the result of the previous step as the input to the next step.\n",
              "function _uploadFilesContinue(outputId) {\n",
              "  const outputElement = document.getElementById(outputId);\n",
              "  const steps = outputElement.steps;\n",
              "\n",
              "  const next = steps.next(outputElement.lastPromiseValue);\n",
              "  return Promise.resolve(next.value.promise).then((value) => {\n",
              "    // Cache the last promise value to make it available to the next\n",
              "    // step of the generator.\n",
              "    outputElement.lastPromiseValue = value;\n",
              "    return next.value.response;\n",
              "  });\n",
              "}\n",
              "\n",
              "/**\n",
              " * Generator function which is called between each async step of the upload\n",
              " * process.\n",
              " * @param {string} inputId Element ID of the input file picker element.\n",
              " * @param {string} outputId Element ID of the output display.\n",
              " * @return {!Iterable<!Object>} Iterable of next steps.\n",
              " */\n",
              "function* uploadFilesStep(inputId, outputId) {\n",
              "  const inputElement = document.getElementById(inputId);\n",
              "  inputElement.disabled = false;\n",
              "\n",
              "  const outputElement = document.getElementById(outputId);\n",
              "  outputElement.innerHTML = '';\n",
              "\n",
              "  const pickedPromise = new Promise((resolve) => {\n",
              "    inputElement.addEventListener('change', (e) => {\n",
              "      resolve(e.target.files);\n",
              "    });\n",
              "  });\n",
              "\n",
              "  const cancel = document.createElement('button');\n",
              "  inputElement.parentElement.appendChild(cancel);\n",
              "  cancel.textContent = 'Cancel upload';\n",
              "  const cancelPromise = new Promise((resolve) => {\n",
              "    cancel.onclick = () => {\n",
              "      resolve(null);\n",
              "    };\n",
              "  });\n",
              "\n",
              "  // Wait for the user to pick the files.\n",
              "  const files = yield {\n",
              "    promise: Promise.race([pickedPromise, cancelPromise]),\n",
              "    response: {\n",
              "      action: 'starting',\n",
              "    }\n",
              "  };\n",
              "\n",
              "  cancel.remove();\n",
              "\n",
              "  // Disable the input element since further picks are not allowed.\n",
              "  inputElement.disabled = true;\n",
              "\n",
              "  if (!files) {\n",
              "    return {\n",
              "      response: {\n",
              "        action: 'complete',\n",
              "      }\n",
              "    };\n",
              "  }\n",
              "\n",
              "  for (const file of files) {\n",
              "    const li = document.createElement('li');\n",
              "    li.append(span(file.name, {fontWeight: 'bold'}));\n",
              "    li.append(span(\n",
              "        `(${file.type || 'n/a'}) - ${file.size} bytes, ` +\n",
              "        `last modified: ${\n",
              "            file.lastModifiedDate ? file.lastModifiedDate.toLocaleDateString() :\n",
              "                                    'n/a'} - `));\n",
              "    const percent = span('0% done');\n",
              "    li.appendChild(percent);\n",
              "\n",
              "    outputElement.appendChild(li);\n",
              "\n",
              "    const fileDataPromise = new Promise((resolve) => {\n",
              "      const reader = new FileReader();\n",
              "      reader.onload = (e) => {\n",
              "        resolve(e.target.result);\n",
              "      };\n",
              "      reader.readAsArrayBuffer(file);\n",
              "    });\n",
              "    // Wait for the data to be ready.\n",
              "    let fileData = yield {\n",
              "      promise: fileDataPromise,\n",
              "      response: {\n",
              "        action: 'continue',\n",
              "      }\n",
              "    };\n",
              "\n",
              "    // Use a chunked sending to avoid message size limits. See b/62115660.\n",
              "    let position = 0;\n",
              "    do {\n",
              "      const length = Math.min(fileData.byteLength - position, MAX_PAYLOAD_SIZE);\n",
              "      const chunk = new Uint8Array(fileData, position, length);\n",
              "      position += length;\n",
              "\n",
              "      const base64 = btoa(String.fromCharCode.apply(null, chunk));\n",
              "      yield {\n",
              "        response: {\n",
              "          action: 'append',\n",
              "          file: file.name,\n",
              "          data: base64,\n",
              "        },\n",
              "      };\n",
              "\n",
              "      let percentDone = fileData.byteLength === 0 ?\n",
              "          100 :\n",
              "          Math.round((position / fileData.byteLength) * 100);\n",
              "      percent.textContent = `${percentDone}% done`;\n",
              "\n",
              "    } while (position < fileData.byteLength);\n",
              "  }\n",
              "\n",
              "  // All done.\n",
              "  yield {\n",
              "    response: {\n",
              "      action: 'complete',\n",
              "    }\n",
              "  };\n",
              "}\n",
              "\n",
              "scope.google = scope.google || {};\n",
              "scope.google.colab = scope.google.colab || {};\n",
              "scope.google.colab._files = {\n",
              "  _uploadFiles,\n",
              "  _uploadFilesContinue,\n",
              "};\n",
              "})(self);\n",
              "</script> "
            ],
            "text/plain": [
              "<IPython.core.display.HTML object>"
            ]
          },
          "metadata": {},
          "output_type": "display_data"
        },
        {
          "name": "stdout",
          "output_type": "stream",
          "text": [
            "Saving kaggle.json to kaggle.json\n"
          ]
        }
      ],
      "source": [
        "from google.colab import files\n",
        "\n",
        "uploaded = files.upload()"
      ]
    },
    {
      "cell_type": "markdown",
      "metadata": {
        "id": "RSpsEHX3bokX"
      },
      "source": [
        "### Move API Key to the Right Directory\n",
        "\n",
        "After uploading the API key, please ensure that Kaggle can use the API key for authentication."
      ]
    },
    {
      "cell_type": "code",
      "execution_count": null,
      "metadata": {
        "id": "U7WQa7ulRdD0"
      },
      "outputs": [],
      "source": [
        "!mkdir -p ~/.kaggle\n",
        "!cp kaggle.json ~/.kaggle/\n",
        "!chmod 600 ~/.kaggle/kaggle.json"
      ]
    },
    {
      "cell_type": "markdown",
      "metadata": {
        "id": "x5vyHDRrbokY"
      },
      "source": [
        "### Download and Unzip Kaggle Dataset\n",
        "\n",
        "download the Chest X-ray Pneumonia dataset and unzip it in the Colab environment:"
      ]
    },
    {
      "cell_type": "code",
      "execution_count": null,
      "metadata": {
        "colab": {
          "base_uri": "https://localhost:8080/"
        },
        "id": "b4Ln38aybokY",
        "outputId": "deae05e2-25dd-411e-9ef7-797f55dbc555"
      },
      "outputs": [
        {
          "name": "stdout",
          "output_type": "stream",
          "text": [
            "chest-xray-pneumonia.zip: Skipping, found more recently modified local copy (use --force to force download)\n",
            "Archive:  chest-xray-pneumonia.zip\n",
            "replace chest_xray/__MACOSX/._chest_xray? [y]es, [n]o, [A]ll, [N]one, [r]ename: "
          ]
        }
      ],
      "source": [
        "!kaggle datasets download -d paultimothymooney/chest-xray-pneumonia\n",
        "!unzip chest-xray-pneumonia.zip"
      ]
    },
    {
      "cell_type": "code",
      "execution_count": null,
      "metadata": {
        "colab": {
          "base_uri": "https://localhost:8080/"
        },
        "id": "tZsJHnxqv2y0",
        "outputId": "58016b8a-44f5-4f76-e74d-027a43f4962e"
      },
      "outputs": [
        {
          "output_type": "stream",
          "name": "stdout",
          "text": [
            "Drive already mounted at /content/gdrive; to attempt to forcibly remount, call drive.mount(\"/content/gdrive\", force_remount=True).\n"
          ]
        }
      ],
      "source": [
        "import os\n",
        "from google.colab import drive\n",
        "\n",
        "drive.mount('/content/gdrive')\n",
        "\n",
        "drive_path = '/content/gdrive/My Drive/Colab Notebooks/DNN_final_project_2024'"
      ]
    },
    {
      "cell_type": "code",
      "source": [
        "\n",
        "# Specify the path to the unzipped dataset directory in Google Drive\n",
        "dataset_dir = '/content/gdrive/MyDrive/Colab Notebooks/chest_xray'\n",
        "\n",
        "# Check if the dataset directory exists\n",
        "if os.path.exists(dataset_dir):\n",
        "    # Now you can access your dataset in the 'dataset_dir' directory\n",
        "    print(\"Dataset directory exists.\")\n",
        "    print(\"You can use 'dataset_dir' for further processing.\")\n",
        "else:\n",
        "    print(\"Dataset directory does not exist. Please provide the correct path.\")\n",
        "\n"
      ],
      "metadata": {
        "colab": {
          "base_uri": "https://localhost:8080/"
        },
        "id": "D3AvXH_8_NUZ",
        "outputId": "0ce3a4ee-30ec-4d4d-e085-c9cc88530c0b"
      },
      "execution_count": null,
      "outputs": [
        {
          "output_type": "stream",
          "name": "stdout",
          "text": [
            "Dataset directory exists.\n",
            "You can use 'dataset_dir' for further processing.\n"
          ]
        }
      ]
    },
    {
      "cell_type": "code",
      "execution_count": null,
      "metadata": {
        "id": "KBH9YNCIkqZ-"
      },
      "outputs": [],
      "source": [
        "import cv2\n",
        "import os\n",
        "import matplotlib.pyplot as plt\n",
        "\n",
        "healthy_image_path = '/content/chest_xray/train/NORMAL/IM-0115-0001.jpeg'\n",
        "viral_pneumonia_image_path = '/content/chest_xray/train/PNEUMONIA/person1000_virus_1681.jpeg'\n",
        "bacterial_pneumonia_image_path = '/content/chest_xray/train/PNEUMONIA/person1000_bacteria_2931.jpeg'\n",
        "\n",
        "healthy_image = cv2.imread(healthy_image_path)\n",
        "viral_pneumonia_image = cv2.imread(viral_pneumonia_image_path)\n",
        "bacterial_pneumonia_image = cv2.imread(bacterial_pneumonia_image_path)\n",
        "\n",
        "# Convert BGR images to RGB\n",
        "healthy_image = cv2.cvtColor(healthy_image, cv2.COLOR_BGR2RGB)\n",
        "viral_pneumonia_image = cv2.cvtColor(viral_pneumonia_image, cv2.COLOR_BGR2RGB)\n",
        "bacterial_pneumonia_image = cv2.cvtColor(bacterial_pneumonia_image, cv2.COLOR_BGR2RGB)\n",
        "\n",
        "plt.figure(figsize=(10, 5))\n",
        "\n",
        "plt.subplot(1, 3, 1)\n",
        "plt.imshow(healthy_image)\n",
        "plt.title('Healthy')\n",
        "\n",
        "plt.subplot(1, 3, 2)\n",
        "plt.imshow(viral_pneumonia_image)\n",
        "plt.title('Viral Pneumonia')\n",
        "\n",
        "plt.subplot(1, 3, 3)\n",
        "plt.imshow(bacterial_pneumonia_image)\n",
        "plt.title('Bacterial Pneumonia')\n",
        "\n",
        "plt.show()\n"
      ]
    },
    {
      "cell_type": "markdown",
      "metadata": {
        "id": "ym1Btnao8eUa"
      },
      "source": [
        "# Binary classification - Healthy vs Pneumonia"
      ]
    },
    {
      "cell_type": "markdown",
      "metadata": {
        "id": "bmZy4Nz_8zHc"
      },
      "source": [
        "## Preprocessing - Data augmentation and normalization"
      ]
    },
    {
      "cell_type": "code",
      "execution_count": null,
      "metadata": {
        "id": "YQrk4Whwi4Pr"
      },
      "outputs": [],
      "source": [
        "import os\n",
        "import pandas as pd\n",
        "from keras.preprocessing.image import ImageDataGenerator\n",
        "from sklearn.model_selection import train_test_split\n",
        "\n",
        "# Paths\n",
        "train_dir = '/content/gdrive/MyDrive/Colab Notebooks/chest_xray/train'\n",
        "val_dir = '/content/gdrive/MyDrive/Colab Notebooks/chest_xray/val'\n",
        "test_dir = '/content/gdrive/MyDrive/Colab Notebooks/chest_xray/test'\n",
        "\n",
        "# ImageDataGenerator for data augmentation and normalization\n",
        "train_datagen = ImageDataGenerator(\n",
        "    rescale=1./255,\n",
        "    shear_range=0.2,\n",
        "    zoom_range=0.2,\n",
        "    horizontal_flip=True,\n",
        ")\n",
        "\n",
        "val_datagen = ImageDataGenerator(rescale=1./255)\n",
        "test_datagen = ImageDataGenerator(rescale=1./255)\n",
        "\n",
        "batch_size = 32"
      ]
    },
    {
      "cell_type": "markdown",
      "metadata": {
        "id": "XGqkHWXpi8cI"
      },
      "source": [
        "## Reorganization of the data"
      ]
    },
    {
      "cell_type": "markdown",
      "metadata": {
        "id": "4PSgu3FtjFzU"
      },
      "source": [
        "In the original data there's only 16 samples for the validation set. At the first training we got overfitting on the validation so we reorganize the samples in order to get more balanced data"
      ]
    },
    {
      "cell_type": "code",
      "execution_count": null,
      "metadata": {
        "colab": {
          "base_uri": "https://localhost:8080/"
        },
        "id": "ioPJbhTJ9AX2",
        "outputId": "6986727f-c5f5-4a33-dc10-1a5000699c0e"
      },
      "outputs": [
        {
          "output_type": "stream",
          "name": "stdout",
          "text": [
            "Found 4185 validated image filenames belonging to 2 classes.\n",
            "Found 1047 validated image filenames belonging to 2 classes.\n",
            "Found 624 images belonging to 2 classes.\n",
            "Number of images in the validation set: 1047\n",
            "Number of images in the validation set: 4185\n"
          ]
        }
      ],
      "source": [
        "import random\n",
        "\n",
        "# We load all file paths in the training and validation directories and combine them\n",
        "all_train_files = []\n",
        "for root, dirs, files in os.walk(train_dir):\n",
        "    all_train_files.extend([os.path.join(root, file) for file in files])\n",
        "\n",
        "all_val_files = []\n",
        "for root, dirs, files in os.walk(val_dir):\n",
        "    all_val_files.extend([os.path.join(root, file) for file in files])\n",
        "\n",
        "all_files = all_train_files + all_val_files\n",
        "\n",
        "random.shuffle(all_files) ## check\n",
        "\n",
        "labels = [os.path.basename(os.path.dirname(file)) for file in all_files]\n",
        "\n",
        "# Split the into training and validation sets\n",
        "train_files, val_files, train_labels, val_labels = train_test_split(\n",
        "    all_files, labels, test_size=0.2, random_state=42, stratify=labels\n",
        ")\n",
        "\n",
        "# DataGenerators for training and validation\n",
        "train_generator = train_datagen.flow_from_dataframe(\n",
        "    dataframe=pd.DataFrame({'filename': train_files, 'class': train_labels}),\n",
        "    x_col='filename',\n",
        "    y_col='class',\n",
        "    target_size=(150, 150),\n",
        "    batch_size=batch_size,\n",
        "    class_mode='binary'\n",
        ")\n",
        "\n",
        "val_generator = val_datagen.flow_from_dataframe(\n",
        "    dataframe=pd.DataFrame({'filename': val_files, 'class': val_labels}),\n",
        "    x_col='filename',\n",
        "    y_col='class',\n",
        "    target_size=(150, 150),\n",
        "    batch_size=batch_size,\n",
        "    class_mode='binary'\n",
        ")\n",
        "\n",
        "# Test generator for evaluation\n",
        "test_generator = test_datagen.flow_from_directory(\n",
        "    test_dir,\n",
        "    target_size=(150, 150),\n",
        "    batch_size=batch_size,\n",
        "    class_mode='binary',\n",
        "\n",
        ")\n",
        "\n",
        "num_val_images = len(val_files)\n",
        "print(f\"Number of images in the validation set: {num_val_images}\")\n",
        "\n",
        "num_train_images = len(train_files)\n",
        "print(f\"Number of images in the validation set: {num_train_images}\")\n",
        "\n"
      ]
    },
    {
      "cell_type": "markdown",
      "metadata": {
        "id": "5uoLk1TpKL_Q"
      },
      "source": [
        "## Build the model and train it\n"
      ]
    },
    {
      "cell_type": "markdown",
      "metadata": {
        "id": "hzg7ZiGzov0S"
      },
      "source": [
        "- we tried setting the lreaning rate to 0.01 but we got worse results than 0.\n",
        "001 (which is the default for Adam optimizer)\n",
        "- we minimized the shapes of the input from 224 x 224 to 64 x 64 and got better results."
      ]
    },
    {
      "cell_type": "code",
      "execution_count": null,
      "metadata": {
        "colab": {
          "base_uri": "https://localhost:8080/"
        },
        "id": "GTc2r5BtHjvN",
        "outputId": "8fcf717c-6974-43e1-f20a-ff665fb3acb8"
      },
      "outputs": [
        {
          "output_type": "stream",
          "name": "stdout",
          "text": [
            "Model: \"sequential_3\"\n",
            "_________________________________________________________________\n",
            " Layer (type)                Output Shape              Param #   \n",
            "=================================================================\n",
            " conv2d_6 (Conv2D)           (None, 148, 148, 32)      896       \n",
            "                                                                 \n",
            " max_pooling2d_6 (MaxPoolin  (None, 74, 74, 32)        0         \n",
            " g2D)                                                            \n",
            "                                                                 \n",
            " dropout_9 (Dropout)         (None, 74, 74, 32)        0         \n",
            "                                                                 \n",
            " conv2d_7 (Conv2D)           (None, 72, 72, 64)        18496     \n",
            "                                                                 \n",
            " max_pooling2d_7 (MaxPoolin  (None, 36, 36, 64)        0         \n",
            " g2D)                                                            \n",
            "                                                                 \n",
            " flatten_3 (Flatten)         (None, 82944)             0         \n",
            "                                                                 \n",
            " dropout_10 (Dropout)        (None, 82944)             0         \n",
            "                                                                 \n",
            " dense_6 (Dense)             (None, 128)               10616960  \n",
            "                                                                 \n",
            " dropout_11 (Dropout)        (None, 128)               0         \n",
            "                                                                 \n",
            " dense_7 (Dense)             (None, 1)                 129       \n",
            "                                                                 \n",
            "=================================================================\n",
            "Total params: 10636481 (40.57 MB)\n",
            "Trainable params: 10636481 (40.57 MB)\n",
            "Non-trainable params: 0 (0.00 Byte)\n",
            "_________________________________________________________________\n"
          ]
        }
      ],
      "source": [
        "from keras.models import Sequential\n",
        "from keras.layers import Conv2D, MaxPooling2D, Flatten, Dense, Dropout, BatchNormalization, Activation\n",
        "from keras.optimizers import Adam\n",
        "\n",
        "\n",
        "model = Sequential()\n",
        "\n",
        "model.add(Conv2D(32, (3, 3), input_shape=(150, 150, 3), activation='relu'))\n",
        "model.add(MaxPooling2D(pool_size=(2, 2)))\n",
        "model.add(Dropout(0.2))\n",
        "model.add(Conv2D(64, (3, 3), activation='relu'))\n",
        "model.add(MaxPooling2D(pool_size=(2, 2)))\n",
        "model.add(Flatten())\n",
        "model.add(Dropout(0.4))\n",
        "model.add(Dense(128, activation='relu'))\n",
        "model.add(Dropout(0.5))\n",
        "model.add(Dense(1, activation='sigmoid'))\n",
        "optimizer = Adam(learning_rate=0.0001)\n",
        "model.compile(optimizer=optimizer, loss='binary_crossentropy', metrics=['accuracy']) #used defualt lr = 0.001\n",
        "\n",
        "model.summary()\n"
      ]
    },
    {
      "cell_type": "code",
      "execution_count": null,
      "metadata": {
        "colab": {
          "base_uri": "https://localhost:8080/"
        },
        "id": "1EvVZqlqKfP3",
        "outputId": "5ff85ec4-99be-4ab9-a176-886641890ebc"
      },
      "outputs": [
        {
          "output_type": "stream",
          "name": "stdout",
          "text": [
            "Epoch 1/10\n",
            "131/131 [==============================] - ETA: 0s - loss: 0.5353 - accuracy: 0.7498"
          ]
        },
        {
          "output_type": "stream",
          "name": "stderr",
          "text": [
            "/usr/local/lib/python3.10/dist-packages/keras/src/engine/training.py:3103: UserWarning: You are saving your model as an HDF5 file via `model.save()`. This file format is considered legacy. We recommend using instead the native Keras format, e.g. `model.save('my_model.keras')`.\n",
            "  saving_api.save_model(\n"
          ]
        },
        {
          "output_type": "stream",
          "name": "stdout",
          "text": [
            "\b\b\b\b\b\b\b\b\b\b\b\b\b\b\b\b\b\b\b\b\b\b\b\b\b\b\b\b\b\b\b\b\b\b\b\b\b\b\b\b\b\b\b\b\b\b\b\b\b\b\b\b\b\b\b\b\b\b\b\b\b\b\b\b\b\b\b\b\b\b\b\b\b\b\b\b\b\b\b\b\b\b\b\b\r131/131 [==============================] - 100s 748ms/step - loss: 0.5353 - accuracy: 0.7498 - val_loss: 0.4649 - val_accuracy: 0.7784\n",
            "Epoch 2/10\n",
            "131/131 [==============================] - 95s 725ms/step - loss: 0.3980 - accuracy: 0.8227 - val_loss: 0.3362 - val_accuracy: 0.8777\n",
            "Epoch 3/10\n",
            "131/131 [==============================] - 88s 675ms/step - loss: 0.3482 - accuracy: 0.8447 - val_loss: 0.3071 - val_accuracy: 0.8768\n",
            "Epoch 4/10\n",
            "131/131 [==============================] - 89s 681ms/step - loss: 0.3386 - accuracy: 0.8504 - val_loss: 0.2736 - val_accuracy: 0.8892\n",
            "Epoch 5/10\n",
            "131/131 [==============================] - 90s 685ms/step - loss: 0.3188 - accuracy: 0.8628 - val_loss: 0.2457 - val_accuracy: 0.9179\n",
            "Epoch 6/10\n",
            "131/131 [==============================] - 86s 653ms/step - loss: 0.2995 - accuracy: 0.8683 - val_loss: 0.2855 - val_accuracy: 0.9093\n",
            "Epoch 7/10\n",
            "131/131 [==============================] - 90s 688ms/step - loss: 0.2887 - accuracy: 0.8805 - val_loss: 0.2121 - val_accuracy: 0.9236\n",
            "Epoch 8/10\n",
            "131/131 [==============================] - 87s 667ms/step - loss: 0.3037 - accuracy: 0.8724 - val_loss: 0.2260 - val_accuracy: 0.9245\n",
            "Epoch 9/10\n",
            "131/131 [==============================] - 88s 677ms/step - loss: 0.2912 - accuracy: 0.8774 - val_loss: 0.2123 - val_accuracy: 0.9198\n",
            "Epoch 10/10\n",
            "131/131 [==============================] - 90s 688ms/step - loss: 0.2901 - accuracy: 0.8836 - val_loss: 0.1982 - val_accuracy: 0.9331\n"
          ]
        }
      ],
      "source": [
        "\n",
        "from keras.callbacks import EarlyStopping, ModelCheckpoint\n",
        "\n",
        "# Define callbacks\n",
        "early_stopping = EarlyStopping(monitor='val_loss', patience=3, restore_best_weights=True)\n",
        "model_checkpoint = ModelCheckpoint(f'{drive_path}/best_model.h5', save_best_only=True)\n",
        "\n",
        "history = model.fit(\n",
        "    train_generator,\n",
        "    epochs=10,\n",
        "    steps_per_epoch=len(train_generator),\n",
        "    validation_data=val_generator,\n",
        "    validation_steps=len(val_generator),\n",
        "    callbacks=[early_stopping, model_checkpoint]\n",
        ")\n"
      ]
    },
    {
      "cell_type": "code",
      "source": [
        "model.save(f'{drive_path}/binary_model.h5')"
      ],
      "metadata": {
        "id": "uFjpNH_Rt9BN"
      },
      "execution_count": null,
      "outputs": []
    },
    {
      "cell_type": "code",
      "execution_count": null,
      "metadata": {
        "colab": {
          "base_uri": "https://localhost:8080/"
        },
        "id": "eicoH4DyxlGi",
        "outputId": "b9c328bd-8139-4143-f7f1-8ea03c8201a8"
      },
      "outputs": [
        {
          "output_type": "stream",
          "name": "stdout",
          "text": [
            "Training Accuracy: 0.884\n",
            "Training Loss: 0.29\n",
            "Validation Accuracy: 0.933\n",
            "Validation Loss: 0.198\n"
          ]
        }
      ],
      "source": [
        "print(\"Training Accuracy:\", round(history.history['accuracy'][-1], 3))\n",
        "print(\"Training Loss:\", round(history.history['loss'][-1], 3))\n",
        "print(\"Validation Accuracy:\", round(history.history['val_accuracy'][-1], 3))\n",
        "print(\"Validation Loss:\", round(history.history['val_loss'][-1], 3))"
      ]
    },
    {
      "cell_type": "code",
      "execution_count": null,
      "metadata": {
        "colab": {
          "base_uri": "https://localhost:8080/",
          "height": 607
        },
        "id": "rKvDmZlGKy8Q",
        "outputId": "88d76fda-1940-4012-a568-4e7d2aec47a2"
      },
      "outputs": [
        {
          "output_type": "display_data",
          "data": {
            "text/plain": [
              "<Figure size 1200x600 with 2 Axes>"
            ],
            "image/png": "[encoded data removed]"
          },
          "metadata": {}
        }
      ],
      "source": [
        "import matplotlib.pyplot as plt\n",
        "\n",
        "# Plot training & validation accuracy values\n",
        "plt.figure(figsize=(12, 6))\n",
        "plt.subplot(1, 2, 1)\n",
        "plt.plot(history.history['accuracy'])\n",
        "plt.plot(history.history['val_accuracy'])\n",
        "plt.title('Model Accuracy')\n",
        "plt.xlabel('Epoch')\n",
        "plt.ylabel('Accuracy')\n",
        "plt.legend(['Train', 'Validation'], loc='upper left')\n",
        "\n",
        "# Plot training & validation loss values\n",
        "plt.subplot(1, 2, 2)\n",
        "plt.plot(history.history['loss'])\n",
        "plt.plot(history.history['val_loss'])\n",
        "plt.title('Model Loss')\n",
        "plt.xlabel('Epoch')\n",
        "plt.ylabel('Loss')\n",
        "plt.legend(['Train', 'Validation'], loc='upper left')\n",
        "\n",
        "# Show the plots\n",
        "plt.tight_layout()\n",
        "plt.show()\n"
      ]
    },
    {
      "cell_type": "markdown",
      "metadata": {
        "id": "KjWg-KG_vrJm"
      },
      "source": [
        "### Evaluate the model"
      ]
    },
    {
      "cell_type": "code",
      "execution_count": null,
      "metadata": {
        "colab": {
          "base_uri": "https://localhost:8080/"
        },
        "id": "oVKSHfGIvqoR",
        "outputId": "98456503-97ae-42b9-9853-6bc392066ffa"
      },
      "outputs": [
        {
          "output_type": "stream",
          "name": "stdout",
          "text": [
            "20/20 [==============================] - 8s 393ms/step - loss: 0.3794 - accuracy: 0.8141\n",
            "Test Loss: 0.3794\n",
            "Test Accuracy: 81.41%\n"
          ]
        }
      ],
      "source": [
        "from keras.models import load_model\n",
        "\n",
        "binary_model = load_model(f'{drive_path}/binary_model.h5')\n",
        "binary_model.compile(optimizer='adam', loss='binary_crossentropy', metrics=['accuracy'])\n",
        "\n",
        "evaluation_result = model.evaluate(test_generator, steps=len(test_generator))\n",
        "\n",
        "test_loss = evaluation_result[0]\n",
        "test_accuracy = evaluation_result[1]\n",
        "\n",
        "print(f'Test Loss: {test_loss:.4f}')\n",
        "print(f'Test Accuracy: {test_accuracy * 100:.2f}%')\n"
      ]
    },
    {
      "cell_type": "code",
      "execution_count": null,
      "metadata": {
        "colab": {
          "base_uri": "https://localhost:8080/",
          "height": 598
        },
        "id": "ICuO7WT9wxkR",
        "outputId": "bf092159-39e7-4c94-cbc9-bc4418fe24ff"
      },
      "outputs": [
        {
          "output_type": "stream",
          "name": "stdout",
          "text": [
            "20/20 [==============================] - 9s 431ms/step\n",
            "0.594551282051282\n"
          ]
        },
        {
          "output_type": "display_data",
          "data": {
            "text/plain": [
              "<Figure size 600x600 with 1 Axes>"
            ],
            "image/png": "[encoded data removed]"
          },
          "metadata": {}
        }
      ],
      "source": [
        "from sklearn.metrics import confusion_matrix, accuracy_score\n",
        "import seaborn as sns\n",
        "import matplotlib.pyplot as plt\n",
        "from keras.models import load_model\n",
        "from keras.preprocessing.image import ImageDataGenerator\n",
        "\n",
        "# Make predictions on the test set\n",
        "y_pred_prob = model.predict(test_generator)\n",
        "y_pred = (y_pred_prob > 0.3)\n",
        "\n",
        "# Get true labels from the test generator\n",
        "y_true = test_generator.classes\n",
        "accuracy = accuracy_score(y_true, y_pred)\n",
        "print(accuracy)\n",
        "\n",
        "# Define class labels\n",
        "class_labels = ['Healthy', 'Pneumonia']\n",
        "\n",
        "# Compute confusion matrix\n",
        "cm = confusion_matrix(y_true, y_pred)\n",
        "\n",
        "# Plot the confusion matrix using seaborn\n",
        "plt.figure(figsize=(6, 6))\n",
        "sns.heatmap(cm, annot=True, fmt='d', cmap='Blues', cbar=False,\n",
        "            xticklabels=class_labels,\n",
        "            yticklabels=class_labels)\n",
        "plt.xlabel('Predicted')\n",
        "plt.ylabel('True')\n",
        "plt.title('Confusion Matrix')\n",
        "plt.show()"
      ]
    },
    {
      "cell_type": "code",
      "source": [
        "predictions = model.predict(test_generator)\n",
        "pred=[]\n",
        "for prediction in predictions:\n",
        "  pred.append(prediction[0])\n",
        "\n",
        "true_labels = test_generator.classes\n",
        "\n",
        "success = 0\n",
        "for i in range (len(pred)):\n",
        "  if (pred[i] < 0.5 and true_labels[i] == 0) or (pred[i] > 0.5 and true_labels[i] == 1):\n",
        "    success +=1\n",
        "\n",
        "rate = success / len(pred)\n",
        "print(\"Success rate: \",rate)"
      ],
      "metadata": {
        "colab": {
          "base_uri": "https://localhost:8080/"
        },
        "id": "wAyd5AOarK9c",
        "outputId": "6aa5ea2d-3692-408e-ebac-97d015fbc00c"
      },
      "execution_count": null,
      "outputs": [
        {
          "output_type": "stream",
          "name": "stdout",
          "text": [
            "20/20 [==============================] - 8s 407ms/step\n",
            "Success rate:  0.5769230769230769\n"
          ]
        }
      ]
    },
    {
      "cell_type": "code",
      "source": [
        "import matplotlib.pyplot as plt\n",
        "\n",
        "\n",
        "for i in range(10):\n",
        "    prediction = y_pred[i]\n",
        "    actual_label = y_true[i]\n",
        "\n",
        "    print(f\"Sample {i + 1}: Prediction = {prediction}, Actual Label = {actual_label}\")\n",
        "\n",
        "\n",
        "\n",
        "# Plotting the predictions and actual labels\n",
        "plt.figure(figsize=(10, 5))\n",
        "plt.plot(range(10), y_pred[:10], label='Predictions', marker='o')\n",
        "plt.plot(range(10), y_true[:10], label='Actual Labels', marker='x')\n",
        "plt.title('Model Predictions vs Actual Labels')\n",
        "plt.xlabel('Sample Index')\n",
        "plt.ylabel('Class')\n",
        "plt.legend()\n",
        "plt.show()\n"
      ],
      "metadata": {
        "colab": {
          "base_uri": "https://localhost:8080/",
          "height": 657
        },
        "id": "-LlARUMemG17",
        "outputId": "6e2e06b6-c7f1-45e9-fd0e-99d9c31139c5"
      },
      "execution_count": null,
      "outputs": [
        {
          "output_type": "stream",
          "name": "stdout",
          "text": [
            "Sample 1: Prediction = [ True], Actual Label = 0\n",
            "Sample 2: Prediction = [ True], Actual Label = 0\n",
            "Sample 3: Prediction = [ True], Actual Label = 0\n",
            "Sample 4: Prediction = [ True], Actual Label = 0\n",
            "Sample 5: Prediction = [ True], Actual Label = 0\n",
            "Sample 6: Prediction = [ True], Actual Label = 0\n",
            "Sample 7: Prediction = [ True], Actual Label = 0\n",
            "Sample 8: Prediction = [ True], Actual Label = 0\n",
            "Sample 9: Prediction = [False], Actual Label = 0\n",
            "Sample 10: Prediction = [ True], Actual Label = 0\n"
          ]
        },
        {
          "output_type": "display_data",
          "data": {
            "text/plain": [
              "<Figure size 1000x500 with 1 Axes>"
            ],
            "image/png": "[encoded data removed]"
          },
          "metadata": {}
        }
      ]
    },
    {
      "cell_type": "markdown",
      "metadata": {
        "id": "N5yEOA0lsUn4"
      },
      "source": [
        "# Multi-class classification"
      ]
    },
    {
      "cell_type": "markdown",
      "metadata": {
        "id": "kRLlfUIItGX9"
      },
      "source": [
        "## Modify data preparation"
      ]
    },
    {
      "cell_type": "code",
      "execution_count": null,
      "metadata": {
        "id": "OJULoP8UvbgQ"
      },
      "outputs": [],
      "source": [
        "# DataGenerators for training and validation\n",
        "train_generator = train_datagen.flow_from_dataframe(\n",
        "    dataframe=pd.DataFrame({'filename': train_files, 'class': train_labels}),\n",
        "    x_col='filename',\n",
        "    y_col='class',\n",
        "    target_size=(224, 224),\n",
        "    batch_size=batch_size,\n",
        "    class_mode='categorical'\n",
        ")\n",
        "\n",
        "val_generator = val_datagen.flow_from_dataframe(\n",
        "    dataframe=pd.DataFrame({'filename': val_files, 'class': val_labels}),\n",
        "    x_col='filename',\n",
        "    y_col='class',\n",
        "    target_size=(224, 224),\n",
        "    batch_size=batch_size,\n",
        "    class_mode='categorical'\n",
        ")\n",
        "\n",
        "# Test generator for evaluation\n",
        "test_generator = test_datagen.flow_from_directory(\n",
        "    test_dir,\n",
        "    target_size=(224, 224),\n",
        "    batch_size=batch_size,\n",
        "    class_mode='categorical'\n",
        ")"
      ]
    },
    {
      "cell_type": "markdown",
      "source": [
        "# Transfer learning model"
      ],
      "metadata": {
        "id": "rH9D0k-GR-20"
      }
    },
    {
      "cell_type": "code",
      "source": [
        "import numpy as np\n",
        "import pandas as pd\n",
        "import os\n",
        "import keras\n",
        "import tensorflow as tf\n",
        "import tensorflow_hub as hub\n",
        "from tensorflow.keras.applications.mobilenet import MobileNet\n",
        "from tensorflow.keras import layers, models\n",
        "from keras.layers import Dense, GlobalAveragePooling2D\n",
        "from keras.preprocessing.image import ImageDataGenerator\n",
        "from keras.models import Model\n",
        "from tensorflow.keras.optimizers import Adam\n"
      ],
      "metadata": {
        "id": "9nqwu2sVSC3z"
      },
      "execution_count": null,
      "outputs": []
    },
    {
      "cell_type": "code",
      "source": [
        "base_model = MobileNet(weights='imagenet', include_top=False)"
      ],
      "metadata": {
        "colab": {
          "base_uri": "https://localhost:8080/"
        },
        "id": "iG4NWUjtTgaj",
        "outputId": "f4d5280d-6b83-4ba8-8cca-3dbfc9562a4a"
      },
      "execution_count": null,
      "outputs": [
        {
          "output_type": "stream",
          "name": "stderr",
          "text": [
            "WARNING:tensorflow:`input_shape` is undefined or non-square, or `rows` is not in [128, 160, 192, 224]. Weights for input shape (224, 224) will be loaded as the default.\n"
          ]
        },
        {
          "output_type": "stream",
          "name": "stdout",
          "text": [
            "Downloading data from https://storage.googleapis.com/tensorflow/keras-applications/mobilenet/mobilenet_1_0_224_tf_no_top.h5\n",
            "17225924/17225924 [==============================] - 0s 0us/step\n"
          ]
        }
      ]
    },
    {
      "cell_type": "code",
      "source": [
        "tl_model = base_model.output\n",
        "tl_model=GlobalAveragePooling2D()(tl_model)\n",
        "tl_model=Dense(units=1024, activation='relu')(tl_model)\n",
        "tl_model=Dense(units=1024, activation='relu')(tl_model)\n",
        "tl_model=Dense(units=512, activation='relu')(tl_model)\n",
        "preds = Dense(1, activation='sigmoid')(tl_model)"
      ],
      "metadata": {
        "id": "t3yatONvUdRi"
      },
      "execution_count": null,
      "outputs": []
    },
    {
      "cell_type": "code",
      "source": [
        "final_model= Model(inputs=base_model.input,outputs=preds)"
      ],
      "metadata": {
        "id": "eNOimvGGVJoY"
      },
      "execution_count": null,
      "outputs": []
    },
    {
      "cell_type": "code",
      "source": [
        "for layer in final_model.layers[:-4]:\n",
        "  layer.trainable=False"
      ],
      "metadata": {
        "id": "cXmecrihWOGc"
      },
      "execution_count": null,
      "outputs": []
    },
    {
      "cell_type": "code",
      "source": [
        "from tensorflow.keras.applications.mobilenet import preprocess_input"
      ],
      "metadata": {
        "id": "VT_QkzF4Wkca"
      },
      "execution_count": null,
      "outputs": []
    },
    {
      "cell_type": "code",
      "source": [
        "import random\n",
        "import os\n",
        "import pandas as pd\n",
        "from keras.preprocessing.image import ImageDataGenerator\n",
        "from sklearn.model_selection import train_test_split\n",
        "\n",
        "# Paths\n",
        "train_dir = '/content/gdrive/MyDrive/Colab Notebooks/chest_xray/train'\n",
        "val_dir = '/content/gdrive/MyDrive/Colab Notebooks/chest_xray/val'\n",
        "test_dir = '/content/gdrive/MyDrive/Colab Notebooks/chest_xray/test'\n",
        "\n",
        "# We load all file paths in the training and validation directories and combine them\n",
        "all_train_files = []\n",
        "for root, dirs, files in os.walk(train_dir):\n",
        "    all_train_files.extend([os.path.join(root, file) for file in files])\n",
        "\n",
        "all_val_files = []\n",
        "for root, dirs, files in os.walk(val_dir):\n",
        "    all_val_files.extend([os.path.join(root, file) for file in files])\n",
        "\n",
        "all_files = all_train_files + all_val_files\n",
        "\n",
        "random.shuffle(all_files) ## check\n",
        "\n",
        "labels = [os.path.basename(os.path.dirname(file)) for file in all_files]\n",
        "\n",
        "# Split the into training and validation sets\n",
        "train_files, val_files, train_labels, val_labels = train_test_split(\n",
        "    all_files, labels, test_size=0.2, random_state=42, stratify=labels\n",
        ")\n",
        "\n",
        "train_datagen_tl = ImageDataGenerator(preprocessing_function=preprocess_input)\n",
        "\n",
        "train_generator = train_datagen_tl.flow_from_dataframe(\n",
        "    dataframe=pd.DataFrame({'filename': train_files, 'class': train_labels}),\n",
        "    x_col='filename',\n",
        "    y_col='class',\n",
        "    target_size=(224, 224),\n",
        "    color_mode='rgb',\n",
        "    batch_size=32,\n",
        "    class_mode='binary',\n",
        "    shuffle=True\n",
        ")\n",
        "\n",
        "val_datagen_tl = ImageDataGenerator(preprocessing_function=preprocess_input)\n",
        "val_generator = val_datagen_tl.flow_from_dataframe(\n",
        "    dataframe=pd.DataFrame({'filename': val_files, 'class': val_labels}),\n",
        "    x_col='filename',\n",
        "    y_col='class',\n",
        "    target_size=(224, 224),\n",
        "    batch_size=32,\n",
        "    class_mode='binary',\n",
        "    color_mode='rgb'\n",
        ")\n",
        "\n",
        "test_datagen_tl = ImageDataGenerator(preprocessing_function=preprocess_input)\n",
        "# Test generator for evaluation\n",
        "test_generator = test_datagen_tl.flow_from_directory(\n",
        "    test_dir,\n",
        "    target_size=(224, 224),\n",
        "    batch_size=32,\n",
        "    class_mode='binary',\n",
        "    color_mode='rgb',\n",
        ")"
      ],
      "metadata": {
        "colab": {
          "base_uri": "https://localhost:8080/"
        },
        "id": "vucjm5ckXA2J",
        "outputId": "339fe833-9b2d-491d-e9d2-1f5744c590f6"
      },
      "execution_count": null,
      "outputs": [
        {
          "output_type": "stream",
          "name": "stdout",
          "text": [
            "Found 4185 validated image filenames belonging to 2 classes.\n",
            "Found 1047 validated image filenames belonging to 2 classes.\n",
            "Found 624 images belonging to 2 classes.\n"
          ]
        }
      ]
    },
    {
      "cell_type": "code",
      "source": [
        "final_model.compile(optimizer='Adam', loss='binary_crossentropy', metrics=['accuracy'])\n",
        "final_model.summary()"
      ],
      "metadata": {
        "colab": {
          "base_uri": "https://localhost:8080/"
        },
        "id": "v-xL5lqMY6HQ",
        "outputId": "df4e0c3d-e5af-428c-fa0e-1f4158dbaa3c"
      },
      "execution_count": null,
      "outputs": [
        {
          "output_type": "stream",
          "name": "stdout",
          "text": [
            "Model: \"model_2\"\n",
            "_________________________________________________________________\n",
            " Layer (type)                Output Shape              Param #   \n",
            "=================================================================\n",
            " input_1 (InputLayer)        [(None, None, None, 3)]   0         \n",
            "                                                                 \n",
            " conv1 (Conv2D)              (None, None, None, 32)    864       \n",
            "                                                                 \n",
            " conv1_bn (BatchNormalizati  (None, None, None, 32)    128       \n",
            " on)                                                             \n",
            "                                                                 \n",
            " conv1_relu (ReLU)           (None, None, None, 32)    0         \n",
            "                                                                 \n",
            " conv_dw_1 (DepthwiseConv2D  (None, None, None, 32)    288       \n",
            " )                                                               \n",
            "                                                                 \n",
            " conv_dw_1_bn (BatchNormali  (None, None, None, 32)    128       \n",
            " zation)                                                         \n",
            "                                                                 \n",
            " conv_dw_1_relu (ReLU)       (None, None, None, 32)    0         \n",
            "                                                                 \n",
            " conv_pw_1 (Conv2D)          (None, None, None, 64)    2048      \n",
            "                                                                 \n",
            " conv_pw_1_bn (BatchNormali  (None, None, None, 64)    256       \n",
            " zation)                                                         \n",
            "                                                                 \n",
            " conv_pw_1_relu (ReLU)       (None, None, None, 64)    0         \n",
            "                                                                 \n",
            " conv_pad_2 (ZeroPadding2D)  (None, None, None, 64)    0         \n",
            "                                                                 \n",
            " conv_dw_2 (DepthwiseConv2D  (None, None, None, 64)    576       \n",
            " )                                                               \n",
            "                                                                 \n",
            " conv_dw_2_bn (BatchNormali  (None, None, None, 64)    256       \n",
            " zation)                                                         \n",
            "                                                                 \n",
            " conv_dw_2_relu (ReLU)       (None, None, None, 64)    0         \n",
            "                                                                 \n",
            " conv_pw_2 (Conv2D)          (None, None, None, 128)   8192      \n",
            "                                                                 \n",
            " conv_pw_2_bn (BatchNormali  (None, None, None, 128)   512       \n",
            " zation)                                                         \n",
            "                                                                 \n",
            " conv_pw_2_relu (ReLU)       (None, None, None, 128)   0         \n",
            "                                                                 \n",
            " conv_dw_3 (DepthwiseConv2D  (None, None, None, 128)   1152      \n",
            " )                                                               \n",
            "                                                                 \n",
            " conv_dw_3_bn (BatchNormali  (None, None, None, 128)   512       \n",
            " zation)                                                         \n",
            "                                                                 \n",
            " conv_dw_3_relu (ReLU)       (None, None, None, 128)   0         \n",
            "                                                                 \n",
            " conv_pw_3 (Conv2D)          (None, None, None, 128)   16384     \n",
            "                                                                 \n",
            " conv_pw_3_bn (BatchNormali  (None, None, None, 128)   512       \n",
            " zation)                                                         \n",
            "                                                                 \n",
            " conv_pw_3_relu (ReLU)       (None, None, None, 128)   0         \n",
            "                                                                 \n",
            " conv_pad_4 (ZeroPadding2D)  (None, None, None, 128)   0         \n",
            "                                                                 \n",
            " conv_dw_4 (DepthwiseConv2D  (None, None, None, 128)   1152      \n",
            " )                                                               \n",
            "                                                                 \n",
            " conv_dw_4_bn (BatchNormali  (None, None, None, 128)   512       \n",
            " zation)                                                         \n",
            "                                                                 \n",
            " conv_dw_4_relu (ReLU)       (None, None, None, 128)   0         \n",
            "                                                                 \n",
            " conv_pw_4 (Conv2D)          (None, None, None, 256)   32768     \n",
            "                                                                 \n",
            " conv_pw_4_bn (BatchNormali  (None, None, None, 256)   1024      \n",
            " zation)                                                         \n",
            "                                                                 \n",
            " conv_pw_4_relu (ReLU)       (None, None, None, 256)   0         \n",
            "                                                                 \n",
            " conv_dw_5 (DepthwiseConv2D  (None, None, None, 256)   2304      \n",
            " )                                                               \n",
            "                                                                 \n",
            " conv_dw_5_bn (BatchNormali  (None, None, None, 256)   1024      \n",
            " zation)                                                         \n",
            "                                                                 \n",
            " conv_dw_5_relu (ReLU)       (None, None, None, 256)   0         \n",
            "                                                                 \n",
            " conv_pw_5 (Conv2D)          (None, None, None, 256)   65536     \n",
            "                                                                 \n",
            " conv_pw_5_bn (BatchNormali  (None, None, None, 256)   1024      \n",
            " zation)                                                         \n",
            "                                                                 \n",
            " conv_pw_5_relu (ReLU)       (None, None, None, 256)   0         \n",
            "                                                                 \n",
            " conv_pad_6 (ZeroPadding2D)  (None, None, None, 256)   0         \n",
            "                                                                 \n",
            " conv_dw_6 (DepthwiseConv2D  (None, None, None, 256)   2304      \n",
            " )                                                               \n",
            "                                                                 \n",
            " conv_dw_6_bn (BatchNormali  (None, None, None, 256)   1024      \n",
            " zation)                                                         \n",
            "                                                                 \n",
            " conv_dw_6_relu (ReLU)       (None, None, None, 256)   0         \n",
            "                                                                 \n",
            " conv_pw_6 (Conv2D)          (None, None, None, 512)   131072    \n",
            "                                                                 \n",
            " conv_pw_6_bn (BatchNormali  (None, None, None, 512)   2048      \n",
            " zation)                                                         \n",
            "                                                                 \n",
            " conv_pw_6_relu (ReLU)       (None, None, None, 512)   0         \n",
            "                                                                 \n",
            " conv_dw_7 (DepthwiseConv2D  (None, None, None, 512)   4608      \n",
            " )                                                               \n",
            "                                                                 \n",
            " conv_dw_7_bn (BatchNormali  (None, None, None, 512)   2048      \n",
            " zation)                                                         \n",
            "                                                                 \n",
            " conv_dw_7_relu (ReLU)       (None, None, None, 512)   0         \n",
            "                                                                 \n",
            " conv_pw_7 (Conv2D)          (None, None, None, 512)   262144    \n",
            "                                                                 \n",
            " conv_pw_7_bn (BatchNormali  (None, None, None, 512)   2048      \n",
            " zation)                                                         \n",
            "                                                                 \n",
            " conv_pw_7_relu (ReLU)       (None, None, None, 512)   0         \n",
            "                                                                 \n",
            " conv_dw_8 (DepthwiseConv2D  (None, None, None, 512)   4608      \n",
            " )                                                               \n",
            "                                                                 \n",
            " conv_dw_8_bn (BatchNormali  (None, None, None, 512)   2048      \n",
            " zation)                                                         \n",
            "                                                                 \n",
            " conv_dw_8_relu (ReLU)       (None, None, None, 512)   0         \n",
            "                                                                 \n",
            " conv_pw_8 (Conv2D)          (None, None, None, 512)   262144    \n",
            "                                                                 \n",
            " conv_pw_8_bn (BatchNormali  (None, None, None, 512)   2048      \n",
            " zation)                                                         \n",
            "                                                                 \n",
            " conv_pw_8_relu (ReLU)       (None, None, None, 512)   0         \n",
            "                                                                 \n",
            " conv_dw_9 (DepthwiseConv2D  (None, None, None, 512)   4608      \n",
            " )                                                               \n",
            "                                                                 \n",
            " conv_dw_9_bn (BatchNormali  (None, None, None, 512)   2048      \n",
            " zation)                                                         \n",
            "                                                                 \n",
            " conv_dw_9_relu (ReLU)       (None, None, None, 512)   0         \n",
            "                                                                 \n",
            " conv_pw_9 (Conv2D)          (None, None, None, 512)   262144    \n",
            "                                                                 \n",
            " conv_pw_9_bn (BatchNormali  (None, None, None, 512)   2048      \n",
            " zation)                                                         \n",
            "                                                                 \n",
            " conv_pw_9_relu (ReLU)       (None, None, None, 512)   0         \n",
            "                                                                 \n",
            " conv_dw_10 (DepthwiseConv2  (None, None, None, 512)   4608      \n",
            " D)                                                              \n",
            "                                                                 \n",
            " conv_dw_10_bn (BatchNormal  (None, None, None, 512)   2048      \n",
            " ization)                                                        \n",
            "                                                                 \n",
            " conv_dw_10_relu (ReLU)      (None, None, None, 512)   0         \n",
            "                                                                 \n",
            " conv_pw_10 (Conv2D)         (None, None, None, 512)   262144    \n",
            "                                                                 \n",
            " conv_pw_10_bn (BatchNormal  (None, None, None, 512)   2048      \n",
            " ization)                                                        \n",
            "                                                                 \n",
            " conv_pw_10_relu (ReLU)      (None, None, None, 512)   0         \n",
            "                                                                 \n",
            " conv_dw_11 (DepthwiseConv2  (None, None, None, 512)   4608      \n",
            " D)                                                              \n",
            "                                                                 \n",
            " conv_dw_11_bn (BatchNormal  (None, None, None, 512)   2048      \n",
            " ization)                                                        \n",
            "                                                                 \n",
            " conv_dw_11_relu (ReLU)      (None, None, None, 512)   0         \n",
            "                                                                 \n",
            " conv_pw_11 (Conv2D)         (None, None, None, 512)   262144    \n",
            "                                                                 \n",
            " conv_pw_11_bn (BatchNormal  (None, None, None, 512)   2048      \n",
            " ization)                                                        \n",
            "                                                                 \n",
            " conv_pw_11_relu (ReLU)      (None, None, None, 512)   0         \n",
            "                                                                 \n",
            " conv_pad_12 (ZeroPadding2D  (None, None, None, 512)   0         \n",
            " )                                                               \n",
            "                                                                 \n",
            " conv_dw_12 (DepthwiseConv2  (None, None, None, 512)   4608      \n",
            " D)                                                              \n",
            "                                                                 \n",
            " conv_dw_12_bn (BatchNormal  (None, None, None, 512)   2048      \n",
            " ization)                                                        \n",
            "                                                                 \n",
            " conv_dw_12_relu (ReLU)      (None, None, None, 512)   0         \n",
            "                                                                 \n",
            " conv_pw_12 (Conv2D)         (None, None, None, 1024   524288    \n",
            "                             )                                   \n",
            "                                                                 \n",
            " conv_pw_12_bn (BatchNormal  (None, None, None, 1024   4096      \n",
            " ization)                    )                                   \n",
            "                                                                 \n",
            " conv_pw_12_relu (ReLU)      (None, None, None, 1024   0         \n",
            "                             )                                   \n",
            "                                                                 \n",
            " conv_dw_13 (DepthwiseConv2  (None, None, None, 1024   9216      \n",
            " D)                          )                                   \n",
            "                                                                 \n",
            " conv_dw_13_bn (BatchNormal  (None, None, None, 1024   4096      \n",
            " ization)                    )                                   \n",
            "                                                                 \n",
            " conv_dw_13_relu (ReLU)      (None, None, None, 1024   0         \n",
            "                             )                                   \n",
            "                                                                 \n",
            " conv_pw_13 (Conv2D)         (None, None, None, 1024   1048576   \n",
            "                             )                                   \n",
            "                                                                 \n",
            " conv_pw_13_bn (BatchNormal  (None, None, None, 1024   4096      \n",
            " ization)                    )                                   \n",
            "                                                                 \n",
            " conv_pw_13_relu (ReLU)      (None, None, None, 1024   0         \n",
            "                             )                                   \n",
            "                                                                 \n",
            " global_average_pooling2d (  (None, 1024)              0         \n",
            " GlobalAveragePooling2D)                                         \n",
            "                                                                 \n",
            " dense (Dense)               (None, 1024)              1049600   \n",
            "                                                                 \n",
            " dense_1 (Dense)             (None, 1024)              1049600   \n",
            "                                                                 \n",
            " dense_2 (Dense)             (None, 512)               524800    \n",
            "                                                                 \n",
            " dense_3 (Dense)             (None, 1)                 513       \n",
            "                                                                 \n",
            "=================================================================\n",
            "Total params: 5853377 (22.33 MB)\n",
            "Trainable params: 2624513 (10.01 MB)\n",
            "Non-trainable params: 3228864 (12.32 MB)\n",
            "_________________________________________________________________\n"
          ]
        }
      ]
    },
    {
      "cell_type": "code",
      "source": [
        "from keras.callbacks import EarlyStopping, ModelCheckpoint\n",
        "\n",
        "early_stopping = EarlyStopping(monitor='val_loss', patience=3, restore_best_weights=True)\n",
        "model_checkpoint = ModelCheckpoint(f'{drive_path}/best_model_tl.h5', save_best_only=True)\n",
        "\n",
        "spe = train_generator.n // train_generator.batch_size\n",
        "spe_val = val_generator.n // val_generator.batch_size\n",
        "history_tl = final_model.fit(train_generator, steps_per_epoch=spe, epochs=5, validation_data=val_generator, validation_steps=spe_val, callbacks=[early_stopping, model_checkpoint])"
      ],
      "metadata": {
        "colab": {
          "base_uri": "https://localhost:8080/"
        },
        "id": "fiFTuFsabLPw",
        "outputId": "8f2406a0-8bea-4e40-87c7-358e722a5acd"
      },
      "execution_count": null,
      "outputs": [
        {
          "output_type": "stream",
          "name": "stdout",
          "text": [
            "Epoch 1/5\n",
            "130/130 [==============================] - ETA: 0s - loss: 0.0590 - accuracy: 0.9822"
          ]
        },
        {
          "output_type": "stream",
          "name": "stderr",
          "text": [
            "/usr/local/lib/python3.10/dist-packages/keras/src/engine/training.py:3103: UserWarning: You are saving your model as an HDF5 file via `model.save()`. This file format is considered legacy. We recommend using instead the native Keras format, e.g. `model.save('my_model.keras')`.\n",
            "  saving_api.save_model(\n"
          ]
        },
        {
          "output_type": "stream",
          "name": "stdout",
          "text": [
            "\b\b\b\b\b\b\b\b\b\b\b\b\b\b\b\b\b\b\b\b\b\b\b\b\b\b\b\b\b\b\b\b\b\b\b\b\b\b\b\b\b\b\b\b\b\b\b\b\b\b\b\b\b\b\b\b\b\b\b\b\b\b\b\b\b\b\b\b\b\b\b\b\b\b\b\b\b\b\b\b\b\b\b\b\r130/130 [==============================] - 70s 541ms/step - loss: 0.0590 - accuracy: 0.9822 - val_loss: 0.0461 - val_accuracy: 0.9854\n",
            "Epoch 2/5\n",
            "130/130 [==============================] - 83s 642ms/step - loss: 0.0374 - accuracy: 0.9887 - val_loss: 0.0420 - val_accuracy: 0.9844\n",
            "Epoch 3/5\n",
            "130/130 [==============================] - 69s 530ms/step - loss: 0.0420 - accuracy: 0.9868 - val_loss: 0.2092 - val_accuracy: 0.9619\n",
            "Epoch 4/5\n",
            "130/130 [==============================] - 75s 576ms/step - loss: 0.0673 - accuracy: 0.9793 - val_loss: 0.0652 - val_accuracy: 0.9814\n",
            "Epoch 5/5\n",
            "130/130 [==============================] - 69s 530ms/step - loss: 0.0332 - accuracy: 0.9889 - val_loss: 0.0482 - val_accuracy: 0.9834\n"
          ]
        }
      ]
    },
    {
      "cell_type": "code",
      "source": [
        "from sklearn.metrics import confusion_matrix, accuracy_score\n",
        "import seaborn as sns\n",
        "import matplotlib.pyplot as plt\n",
        "from keras.models import load_model\n",
        "from keras.preprocessing.image import ImageDataGenerator\n",
        "\n",
        "# Make predictions on the test set\n",
        "y_pred_prob = model_tl.predict(test_generator)\n",
        "y_pred = (y_pred_prob > 0.5).astype(int).flatten()\n",
        "\n",
        "# Get true labels from the test generator\n",
        "y_true = test_generator.classes\n",
        "accuracy = accuracy_score(y_true, y_pred)\n",
        "print(accuracy)\n",
        "\n",
        "# Define class labels\n",
        "class_labels = ['Healthy', 'Pneumonia']\n",
        "\n",
        "# Compute confusion matrix\n",
        "cm = confusion_matrix(y_true, y_pred)\n",
        "\n",
        "# Plot the confusion matrix using seaborn\n",
        "plt.figure(figsize=(6, 6))\n",
        "sns.heatmap(cm, annot=True, fmt='d', cmap='Blues', cbar=False,\n",
        "            xticklabels=class_labels,\n",
        "            yticklabels=class_labels)\n",
        "plt.xlabel('Predicted')\n",
        "plt.ylabel('True')\n",
        "plt.title('Confusion Matrix')\n",
        "plt.show()"
      ],
      "metadata": {
        "colab": {
          "base_uri": "https://localhost:8080/",
          "height": 601
        },
        "id": "iNkwjNdxcoJY",
        "outputId": "83f4643d-8bbd-467c-ad04-f15528d95dfe"
      },
      "execution_count": null,
      "outputs": [
        {
          "output_type": "stream",
          "name": "stdout",
          "text": [
            "39/39 [==============================] - 11s 249ms/step\n",
            "0.5689102564102564\n"
          ]
        },
        {
          "output_type": "display_data",
          "data": {
            "text/plain": [
              "<Figure size 600x600 with 1 Axes>"
            ],
            "image/png": "[encoded data removed]"
          },
          "metadata": {}
        }
      ]
    },
    {
      "cell_type": "code",
      "source": [
        "from keras.models import load_model\n",
        "\n",
        "model_tl = load_model(f'{drive_path}/best_model_tl.h5')\n",
        "model_tl.compile(optimizer='adam', loss='binary_crossentropy', metrics=['accuracy'])\n",
        "\n",
        "evaluation_result = model_tl.evaluate(test_generator, steps=(test_generator.n // test_generator.batch_size))\n",
        "\n",
        "test_loss = evaluation_result[0]\n",
        "test_accuracy = evaluation_result[1]\n",
        "\n",
        "print(f'Test Loss: {test_loss:.4f}')\n",
        "print(f'Test Accuracy: {test_accuracy * 100:.2f}%')\n"
      ],
      "metadata": {
        "colab": {
          "base_uri": "https://localhost:8080/"
        },
        "id": "ZLNOyAdJgrpo",
        "outputId": "a55276d6-ebfa-403b-d46b-781444cba0f0"
      },
      "execution_count": null,
      "outputs": [
        {
          "output_type": "stream",
          "name": "stdout",
          "text": [
            "39/39 [==============================] - 8s 189ms/step - loss: 0.9403 - accuracy: 0.8478\n",
            "Test Loss: 0.9403\n",
            "Test Accuracy: 84.78%\n"
          ]
        }
      ]
    },
    {
      "cell_type": "code",
      "source": [],
      "metadata": {
        "id": "5_tFqlaKgxgl"
      },
      "execution_count": null,
      "outputs": []
    }
  ],
  "metadata": {
    "accelerator": "GPU",
    "colab": {
      "provenance": [],
      "include_colab_link": true
    },
    "kernelspec": {
      "display_name": "Python 3",
      "name": "python3"
    },
    "language_info": {
      "codemirror_mode": {
        "name": "ipython",
        "version": 3
      },
      "file_extension": ".py",
      "mimetype": "text/x-python",
      "name": "python",
      "nbconvert_exporter": "python",
      "pygments_lexer": "ipython3",
      "version": "3.11.6"
    }
  },
  "nbformat": 4,
  "nbformat_minor": 0
}